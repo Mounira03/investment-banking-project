{
 "cells": [
  {
   "cell_type": "code",
   "execution_count": 0,
   "metadata": {
    "application/vnd.databricks.v1+cell": {
     "cellMetadata": {
      "byteLimit": 2048000,
      "rowLimit": 10000
     },
     "inputWidgets": {},
     "nuid": "aa001076-cc9f-45c1-9f2b-daa5e1b15fc8",
     "showTitle": false,
     "title": ""
    },
    "id": "eOpN4YQNONH3"
   },
   "outputs": [],
   "source": [
    "import pyspark\n",
    "from pyspark.sql.functions import *\n",
    "from pyspark.sql.types import *\n",
    "from pyspark.sql import DataFrameWriter"
   ]
  },
  {
   "cell_type": "code",
   "execution_count": 0,
   "metadata": {
    "application/vnd.databricks.v1+cell": {
     "cellMetadata": {
      "byteLimit": 2048000,
      "rowLimit": 10000
     },
     "inputWidgets": {},
     "nuid": "5d98d270-cdd1-454b-a674-721dde11f223",
     "showTitle": false,
     "title": ""
    }
   },
   "outputs": [],
   "source": [
    "spark.conf.set(\"fs.azure.account.key.ksrblobst.dfs.core.windows.net\", \"rpuQnbZpsJL3zRK2/BHjnJmXTmhxwrTRisZz6ieX3w0VbRJb2rIPJDcxc7CbNQtG01rHfJAGhM7O+ASteaBTcQ==\")"
   ]
  },
  {
   "cell_type": "code",
   "execution_count": 0,
   "metadata": {
    "application/vnd.databricks.v1+cell": {
     "cellMetadata": {
      "byteLimit": 2048000,
      "rowLimit": 10000
     },
     "inputWidgets": {},
     "nuid": "ba541b7c-18c9-4776-a3fb-61f620d74154",
     "showTitle": false,
     "title": ""
    }
   },
   "outputs": [
    {
     "output_type": "display_data",
     "data": {
      "text/html": [
       "<style scoped>\n",
       "  .table-result-container {\n",
       "    max-height: 300px;\n",
       "    overflow: auto;\n",
       "  }\n",
       "  table, th, td {\n",
       "    border: 1px solid black;\n",
       "    border-collapse: collapse;\n",
       "  }\n",
       "  th, td {\n",
       "    padding: 5px;\n",
       "  }\n",
       "  th {\n",
       "    text-align: left;\n",
       "  }\n",
       "</style><div class='table-result-container'><table class='table-result'><thead style='background-color: white'><tr><th>path</th><th>name</th><th>size</th><th>modificationTime</th></tr></thead><tbody><tr><td>abfss://ksroot@ksrblobst.dfs.core.windows.net/2393276-Bike_Data.csv</td><td>2393276-Bike_Data.csv</td><td>6956530</td><td>1708345249000</td></tr><tr><td>abfss://ksroot@ksrblobst.dfs.core.windows.net/investment_banking.csv</td><td>investment_banking.csv</td><td>57244620</td><td>1708342919000</td></tr></tbody></table></div>"
      ]
     },
     "metadata": {
      "application/vnd.databricks.v1+output": {
       "addedWidgets": {},
       "aggData": [],
       "aggError": "",
       "aggOverflow": false,
       "aggSchema": [],
       "aggSeriesLimitReached": false,
       "aggType": "",
       "arguments": {},
       "columnCustomDisplayInfos": {},
       "data": [
        [
         "abfss://ksroot@ksrblobst.dfs.core.windows.net/2393276-Bike_Data.csv",
         "2393276-Bike_Data.csv",
         6956530,
         1708345249000
        ],
        [
         "abfss://ksroot@ksrblobst.dfs.core.windows.net/investment_banking.csv",
         "investment_banking.csv",
         57244620,
         1708342919000
        ]
       ],
       "datasetInfos": [],
       "dbfsResultPath": null,
       "isJsonSchema": true,
       "metadata": {},
       "overflow": false,
       "plotOptions": {
        "customPlotOptions": {},
        "displayType": "table",
        "pivotAggregation": null,
        "pivotColumns": null,
        "xColumns": null,
        "yColumns": null
       },
       "removedWidgets": [],
       "schema": [
        {
         "metadata": "{}",
         "name": "path",
         "type": "\"string\""
        },
        {
         "metadata": "{}",
         "name": "name",
         "type": "\"string\""
        },
        {
         "metadata": "{}",
         "name": "size",
         "type": "\"long\""
        },
        {
         "metadata": "{}",
         "name": "modificationTime",
         "type": "\"long\""
        }
       ],
       "type": "table"
      }
     },
     "output_type": "display_data"
    }
   ],
   "source": [
    "display(dbutils.fs.ls(\"abfss://ksroot@ksrblobst.dfs.core.windows.net\"))"
   ]
  },
  {
   "cell_type": "code",
   "execution_count": 0,
   "metadata": {
    "application/vnd.databricks.v1+cell": {
     "cellMetadata": {
      "byteLimit": 2048000,
      "rowLimit": 10000
     },
     "inputWidgets": {},
     "nuid": "2be0d619-43da-455d-a674-fb1db58757d2",
     "showTitle": false,
     "title": ""
    },
    "id": "6lKLZpl2OSu7"
   },
   "outputs": [],
   "source": [
    "data = spark.read.csv(\"abfss://ksroot@ksrblobst.dfs.core.windows.net/investment_banking.csv\", header=True, inferSchema=True)"
   ]
  },
  {
   "cell_type": "code",
   "execution_count": 0,
   "metadata": {
    "application/vnd.databricks.v1+cell": {
     "cellMetadata": {
      "byteLimit": 2048000,
      "rowLimit": 10000
     },
     "inputWidgets": {},
     "nuid": "9bab7253-2bc9-4c8a-b86d-a4ecf66c155b",
     "showTitle": false,
     "title": ""
    },
    "colab": {
     "base_uri": "https://localhost:8080/"
    },
    "id": "J_On0WqbO7Qh",
    "outputId": "3ad44861-a165-42cf-b1b7-97c79f3f1ef4"
   },
   "outputs": [],
   "source": [
    "#data.show(3)\n"
   ]
  },
  {
   "cell_type": "code",
   "execution_count": 0,
   "metadata": {
    "application/vnd.databricks.v1+cell": {
     "cellMetadata": {
      "byteLimit": 2048000,
      "rowLimit": 10000
     },
     "inputWidgets": {},
     "nuid": "09c63960-7c78-4cbb-b39a-9b424d35a68b",
     "showTitle": false,
     "title": ""
    },
    "colab": {
     "base_uri": "https://localhost:8080/",
     "height": 53
    },
    "id": "higuY1DKPQsJ",
    "outputId": "6cc93105-ad73-4ab9-c117-72dbbc8f5550"
   },
   "outputs": [],
   "source": [
    "#display(len(data.columns), data.count())"
   ]
  },
  {
   "cell_type": "code",
   "execution_count": 0,
   "metadata": {
    "application/vnd.databricks.v1+cell": {
     "cellMetadata": {
      "byteLimit": 2048000,
      "rowLimit": 10000
     },
     "inputWidgets": {},
     "nuid": "ed7eb6e2-4f7e-4b89-8c9e-232ce02a99ca",
     "showTitle": false,
     "title": ""
    },
    "colab": {
     "base_uri": "https://localhost:8080/"
    },
    "id": "qkR79yvKPvpa",
    "outputId": "c5a55fd8-a2f3-4116-8a40-27733950694c"
   },
   "outputs": [],
   "source": [
    "#data.printSchema()"
   ]
  },
  {
   "cell_type": "code",
   "execution_count": 0,
   "metadata": {
    "application/vnd.databricks.v1+cell": {
     "cellMetadata": {
      "byteLimit": 2048000,
      "rowLimit": 10000
     },
     "inputWidgets": {},
     "nuid": "fa0020ec-ee6a-4061-a4b4-64bf0de26b88",
     "showTitle": false,
     "title": ""
    },
    "colab": {
     "base_uri": "https://localhost:8080/"
    },
    "id": "wcxW3WGJRA7w",
    "outputId": "d3b5402c-e22e-4998-db92-0ab38b1007fb"
   },
   "outputs": [],
   "source": [
    "#data.select([count(when(isnan(c) | col(c).isNull(), c)).alias(c) for c in data.columns]\n",
    "#   ).show()"
   ]
  },
  {
   "cell_type": "code",
   "execution_count": 0,
   "metadata": {
    "application/vnd.databricks.v1+cell": {
     "cellMetadata": {
      "byteLimit": 2048000,
      "rowLimit": 10000
     },
     "inputWidgets": {},
     "nuid": "0a4eb937-dbba-4801-aa1f-4d029ce223e8",
     "showTitle": false,
     "title": ""
    },
    "colab": {
     "base_uri": "https://localhost:8080/"
    },
    "id": "nCPx88n5SDy3",
    "outputId": "7c5f8e67-6391-4c0f-d9ab-3c69a00ae9d1"
   },
   "outputs": [
    {
     "output_type": "execute_result",
     "data": {
      "text/plain": [
       "DataFrame[broker_id: double, city: double, broker_type: double, fund_category: double, email_opened: double, webex_meet: double, sales_call: double, firm_sales: double, global_sales: double]"
      ]
     },
     "execution_count": 30,
     "metadata": {},
     "output_type": "execute_result"
    }
   ],
   "source": [
    "data.select([round(((count(when(isnan(c) | col(c).isNull(),c))/data.count())*100),2).alias(c) for c in data.columns])"
   ]
  },
  {
   "cell_type": "code",
   "execution_count": 0,
   "metadata": {
    "application/vnd.databricks.v1+cell": {
     "cellMetadata": {
      "byteLimit": 2048000,
      "rowLimit": 10000
     },
     "inputWidgets": {},
     "nuid": "1dd16b13-d57f-42c8-b03b-0514c743a297",
     "showTitle": false,
     "title": ""
    },
    "id": "KWHqHAyVS6hR"
   },
   "outputs": [],
   "source": [
    "#columns to be dropped (webex_meet,sales_call) because they are more then 75 % null values\n",
    "# for column (email_opened) the null values will be replaced with (N/A)"
   ]
  },
  {
   "cell_type": "code",
   "execution_count": 0,
   "metadata": {
    "application/vnd.databricks.v1+cell": {
     "cellMetadata": {
      "byteLimit": 2048000,
      "rowLimit": 10000
     },
     "inputWidgets": {},
     "nuid": "1870bc57-bd6c-4150-9212-12e095d134e1",
     "showTitle": false,
     "title": ""
    },
    "id": "4hmmIXfVfA23"
   },
   "outputs": [],
   "source": [
    "data = data.drop(col(\"webex_meet\"),col(\"sales_call\"))"
   ]
  },
  {
   "cell_type": "code",
   "execution_count": 0,
   "metadata": {
    "application/vnd.databricks.v1+cell": {
     "cellMetadata": {},
     "inputWidgets": {},
     "nuid": "d34ffc22-d0b3-4a75-a29e-f3ec79b793ed",
     "showTitle": false,
     "title": ""
    },
    "id": "OP8oCCXAI2DD"
   },
   "outputs": [],
   "source": [
    "#column email_opened has 57.7 % null we can keep and replace the null with NA"
   ]
  },
  {
   "cell_type": "code",
   "execution_count": 0,
   "metadata": {
    "application/vnd.databricks.v1+cell": {
     "cellMetadata": {
      "byteLimit": 2048000,
      "rowLimit": 10000
     },
     "inputWidgets": {},
     "nuid": "5729f866-26b8-476d-92ce-580efcf45178",
     "showTitle": false,
     "title": ""
    },
    "id": "75JYiRifTDYl"
   },
   "outputs": [],
   "source": [
    "columns = [\"email_opened\"]"
   ]
  },
  {
   "cell_type": "code",
   "execution_count": 0,
   "metadata": {
    "application/vnd.databricks.v1+cell": {
     "cellMetadata": {
      "byteLimit": 2048000,
      "rowLimit": 10000
     },
     "inputWidgets": {},
     "nuid": "cf5d15db-b661-4851-aa58-b11c50e0a515",
     "showTitle": false,
     "title": ""
    },
    "id": "8RZDUK3TJPu9"
   },
   "outputs": [],
   "source": [
    "data = data.fillna(\"N/A\", subset = columns)"
   ]
  },
  {
   "cell_type": "code",
   "execution_count": 0,
   "metadata": {
    "application/vnd.databricks.v1+cell": {
     "cellMetadata": {},
     "inputWidgets": {},
     "nuid": "8a7eca2d-8a74-4218-b522-ca239065b2c0",
     "showTitle": false,
     "title": ""
    },
    "id": "_3HCml3cIw2C"
   },
   "outputs": [],
   "source": [
    "#column city contains state and city, we will split in 2 columns"
   ]
  },
  {
   "cell_type": "code",
   "execution_count": 0,
   "metadata": {
    "application/vnd.databricks.v1+cell": {
     "cellMetadata": {
      "byteLimit": 2048000,
      "rowLimit": 10000
     },
     "inputWidgets": {},
     "nuid": "ee9ae147-77e3-4a7e-bc49-c0bb48fb6b7f",
     "showTitle": false,
     "title": ""
    },
    "id": "hqYzoKn4Zq3i"
   },
   "outputs": [],
   "source": [
    "data = data.withColumn('state', split(data['city'], ',').getItem(1))\n"
   ]
  },
  {
   "cell_type": "code",
   "execution_count": 0,
   "metadata": {
    "application/vnd.databricks.v1+cell": {
     "cellMetadata": {
      "byteLimit": 2048000,
      "rowLimit": 10000
     },
     "inputWidgets": {},
     "nuid": "948b0c76-c404-4914-b9ee-d233f3b402e9",
     "showTitle": false,
     "title": ""
    },
    "id": "YbzQMe1Cf5dU"
   },
   "outputs": [],
   "source": [
    "data = data.withColumn('City', split(data['city'], ',').getItem(0))"
   ]
  },
  {
   "cell_type": "code",
   "execution_count": 0,
   "metadata": {
    "application/vnd.databricks.v1+cell": {
     "cellMetadata": {},
     "inputWidgets": {},
     "nuid": "6294fac1-decc-42db-8d1b-9cf4eae5293e",
     "showTitle": false,
     "title": ""
    },
    "id": "f7FAT7OUnBg-"
   },
   "outputs": [],
   "source": [
    "#now check these columns toroughly"
   ]
  },
  {
   "cell_type": "code",
   "execution_count": 0,
   "metadata": {
    "application/vnd.databricks.v1+cell": {
     "cellMetadata": {},
     "inputWidgets": {},
     "nuid": "5bebff18-ded7-482c-851a-6c4e2fa612aa",
     "showTitle": false,
     "title": ""
    },
    "colab": {
     "base_uri": "https://localhost:8080/"
    },
    "id": "852XbXbUeFvf",
    "outputId": "66ab6acf-5196-42a6-b610-329c5c90ee9b"
   },
   "outputs": [
    {
     "output_type": "stream",
     "name": "stdout",
     "output_type": "stream",
     "text": [
      "+---------+-------------+-------------------+--------------------+------------+----------+------------+-----+\n|broker_id|         City|        broker_type|       fund_category|email_opened|firm_sales|global_sales|state|\n+---------+-------------+-------------------+--------------------+------------+----------+------------+-----+\n|   BRXX-1|   PLANTATION|Inter-dealer broker|Emerging-Markets ...|        NULL|    174.62|      174.62|   FL|\n|   BRXX-1|     BRANFORD|Inter-dealer broker|           Utilities|        NULL|       0.0|         0.0|   CT|\n|   BRXX-1|    JONESBORO|Inter-dealer broker|Intermediate Gove...|        NULL|       0.0|         0.0|   GA|\n|   BRXX-2|       VIENNA|Inter-dealer broker|Intermediate Gove...|           Y|       0.0|     30709.0|   VA|\n|   BRXX-3|CHAGRIN FALLS|full-service broker|    Target-Date 2050|           Y|       0.0|         0.0|   OH|\n|   BRXX-2|     CARLSBAD|Inter-dealer broker|       Multicurrency|           Y|       0.0|         0.0|   CA|\n|   BRXX-3|     BELLEVUE|full-service broker|Target-Date Retir...|           Y|       0.0|     5360.07|   WA|\n|   BRXX-1| OWINGS MILLS|Inter-dealer broker|   World Large Stock|        NULL|       0.0|     4807.68|   MD|\n|   BRXX-3|       SUMMIT|full-service broker|Intermediate-Term...|           Y|       0.0|   354219.62|   NJ|\n|   BRXX-3|   CHARLESTON|full-service broker|        Convertibles|           Y|       0.0|   301974.77|   SC|\n+---------+-------------+-------------------+--------------------+------------+----------+------------+-----+\nonly showing top 10 rows\n\n"
     ]
    }
   ],
   "source": [
    "#data.show(10)"
   ]
  },
  {
   "cell_type": "code",
   "execution_count": 0,
   "metadata": {
    "application/vnd.databricks.v1+cell": {
     "cellMetadata": {},
     "inputWidgets": {},
     "nuid": "1c81ac1c-ed9d-48d7-bc9f-b3e1643ec6a3",
     "showTitle": false,
     "title": ""
    },
    "colab": {
     "base_uri": "https://localhost:8080/"
    },
    "id": "zaAgBvAjopdh",
    "outputId": "ffba2807-24e0-4ff9-81cb-b2ff81832cfa"
   },
   "outputs": [
    {
     "output_type": "stream",
     "name": "stdout",
     "output_type": "stream",
     "text": [
      "+---------+-------------+-------------------+--------------------+------------+----------+----------+----------+------------+-----+\n|broker_id|         City|        broker_type|       fund_category|email_opened|webex_meet|sales_call|firm_sales|global_sales|state|\n+---------+-------------+-------------------+--------------------+------------+----------+----------+----------+------------+-----+\n|   BRXX-3|BEVERLY HILLS|full-service broker|Inflation-Protect...|           Y|         Y|         Y|       0.0|      2143.6|   CA|\n|   BRXX-3|       VIENNA|full-service broker|         Large Value|           Y|         Y|         Y| 175211.54|  2126109.36|   VA|\n|   BRXX-3|        OGDEN|full-service broker|        Small Growth|           Y|         Y|         Y|       0.0|     6595.17|   UT|\n|   BRXX-3|       RESTON|full-service broker|Equity Precious M...|           Y|         Y|         Y|       0.0|         0.0|   VA|\n|   BRXX-3|SAN FRANCISCO|full-service broker|     High Yield Muni|           Y|         Y|         Y|       0.0|  6925430.35|   CA|\n|  BRXX-76|WILLIAMSVILLE|Inter-dealer broker|           Utilities|           Y|         Y|         Y|       0.0|      2071.0|   NY|\n| BRXX-298|    PRINCETON|Inter-dealer broker|   World Large Stock|           Y|         Y|         Y|       0.0|    59734.33|   KY|\n| BRXX-102|  GARDEN CITY|full-service broker|  Global Real Estate|           Y|         Y|         Y|       0.0|   241628.51|   NY|\n| BRXX-209|   SCOTTSDALE|Inter-dealer broker|     High Yield Bond|           Y|         Y|         Y|    885.99|      885.99|   AZ|\n|  BRXX-55|   SAINT PAUL|Inter-dealer broker|     Ultrashort Bond|           Y|         Y|         Y|       0.0|     75000.0|   MN|\n|  BRXX-93|       WILTON|Inter-dealer broker|   World Large Stock|           Y|         Y|         Y|       0.0|    487440.0|   CT|\n| BRXX-301|  LOS ANGELES|Inter-dealer broker|     Short-Term Bond|           Y|         Y|         Y|  11417.28|   157612.28|   CA|\n|  BRXX-53| MOUNT LAUREL|full-service broker|   Long-Short Equity|           Y|         Y|         Y|       0.0|   551330.75|   NJ|\n| BRXX-102|   SANTA ROSA|full-service broker|Muni Single State...|           Y|         Y|         Y|       0.0|         0.0|   CA|\n|  BRXX-53|      LEAWOOD|full-service broker|      Infrastructure|           Y|         Y|         Y|       0.0|      527.96|   KS|\n|  BRXX-76|      HOUSTON|Inter-dealer broker| Muni National Short|           Y|         Y|         Y|       0.0|    66114.68|   TX|\n|  BRXX-92|     SAN JOSE|full-service broker|Muni Single State...|           Y|         Y|         Y|       0.0|       104.5|   CA|\n|   BRXX-3|    NASHVILLE|full-service broker|Inflation-Protect...|           Y|         Y|         Y|       0.0|    32932.31|   TN|\n| BRXX-279|       LATHAM|Inter-dealer broker| Nontraditional Bond|           Y|         Y|         Y|   33650.0|     33650.0|   NY|\n| BRXX-154|    PRINCETON|Inter-dealer broker|Muni National Interm|           Y|         Y|         Y|       0.0|    17875.42|   NJ|\n+---------+-------------+-------------------+--------------------+------------+----------+----------+----------+------------+-----+\nonly showing top 20 rows\n\n"
     ]
    }
   ],
   "source": [
    "#data.filter(length(col(\"state\"))>2 ).distinct().show()"
   ]
  },
  {
   "cell_type": "code",
   "execution_count": 0,
   "metadata": {
    "application/vnd.databricks.v1+cell": {
     "cellMetadata": {},
     "inputWidgets": {},
     "nuid": "7191ab25-3692-4ec7-a026-3789f4b2069f",
     "showTitle": false,
     "title": ""
    },
    "colab": {
     "base_uri": "https://localhost:8080/"
    },
    "id": "_DHdEOtohJP4",
    "outputId": "ab6bf9ba-6f47-4da3-8f25-b2589413624f"
   },
   "outputs": [
    {
     "output_type": "stream",
     "name": "stdout",
     "output_type": "stream",
     "text": [
      "+-----+-------------+\n|state|length(state)|\n+-----+-------------+\n+-----+-------------+\n\n"
     ]
    }
   ],
   "source": [
    " #data.select(col(\"state\"), length(col(\"state\"))).filter(length(col(\"state\"))>3).distinct().show()"
   ]
  },
  {
   "cell_type": "code",
   "execution_count": 0,
   "metadata": {
    "application/vnd.databricks.v1+cell": {
     "cellMetadata": {},
     "inputWidgets": {},
     "nuid": "8150479d-6fcc-4256-b94d-2eef1e59cc17",
     "showTitle": false,
     "title": ""
    },
    "id": "OsutOQijkdum"
   },
   "outputs": [],
   "source": [
    "# there is extra space and extra comma in the state column, we need to remove it."
   ]
  },
  {
   "cell_type": "code",
   "execution_count": 0,
   "metadata": {
    "application/vnd.databricks.v1+cell": {
     "cellMetadata": {
      "byteLimit": 2048000,
      "rowLimit": 10000
     },
     "inputWidgets": {},
     "nuid": "36eeff55-0a58-4cb4-ad87-42e5a69ca607",
     "showTitle": false,
     "title": ""
    },
    "id": "6ldWUBZylAo_"
   },
   "outputs": [],
   "source": [
    "data=data.withColumn(\"state\", regexp_replace(col(\"state\"), \" \", \"\"))"
   ]
  },
  {
   "cell_type": "code",
   "execution_count": 0,
   "metadata": {
    "application/vnd.databricks.v1+cell": {
     "cellMetadata": {},
     "inputWidgets": {},
     "nuid": "692c745f-2c96-435e-bc2a-4c7abc4bdc09",
     "showTitle": false,
     "title": ""
    },
    "colab": {
     "base_uri": "https://localhost:8080/"
    },
    "id": "hjJ2LcwV-Qz-",
    "outputId": "d29fa533-55c7-4ba9-f07f-8a95ca088ede"
   },
   "outputs": [
    {
     "output_type": "stream",
     "name": "stdout",
     "output_type": "stream",
     "text": [
      "+-----+-------------+\n|state|length(state)|\n+-----+-------------+\n+-----+-------------+\n\n"
     ]
    }
   ],
   "source": [
    " #data.select(col(\"state\"), length(col(\"state\"))).filter(length(col(\"state\"))>2).distinct().show()"
   ]
  },
  {
   "cell_type": "code",
   "execution_count": 0,
   "metadata": {
    "application/vnd.databricks.v1+cell": {
     "cellMetadata": {},
     "inputWidgets": {},
     "nuid": "c1b10f47-bcdc-4373-b8e5-8819e4741102",
     "showTitle": false,
     "title": ""
    },
    "id": "09o5cqWDCvo8"
   },
   "outputs": [],
   "source": [
    "#verify in each string type columns if any value is numerical"
   ]
  },
  {
   "cell_type": "code",
   "execution_count": 0,
   "metadata": {
    "application/vnd.databricks.v1+cell": {
     "cellMetadata": {},
     "inputWidgets": {},
     "nuid": "1f7fdd95-ae73-451f-9305-9ee31a3c45a7",
     "showTitle": false,
     "title": ""
    },
    "id": "8rLzmkWlDX8m"
   },
   "outputs": [],
   "source": [
    "#data.select(\"state\", col(\"state\").cast(\"int\").isNotNull().alias(\"Value \")).show(10)"
   ]
  },
  {
   "cell_type": "code",
   "execution_count": 0,
   "metadata": {
    "application/vnd.databricks.v1+cell": {
     "cellMetadata": {},
     "inputWidgets": {},
     "nuid": "1d0b010e-e5eb-4701-8e3c-133708f46f7f",
     "showTitle": false,
     "title": ""
    },
    "colab": {
     "base_uri": "https://localhost:8080/"
    },
    "id": "D_0a9XAXDXrA",
    "outputId": "54fb73eb-cfd5-4f03-860f-7cd82f40aee5"
   },
   "outputs": [
    {
     "output_type": "stream",
     "name": "stdout",
     "output_type": "stream",
     "text": [
      "+-------------+------+\n|         city|Value |\n+-------------+------+\n|   PLANTATION| false|\n|     BRANFORD| false|\n|    JONESBORO| false|\n|       VIENNA| false|\n|CHAGRIN FALLS| false|\n|     CARLSBAD| false|\n|     BELLEVUE| false|\n| OWINGS MILLS| false|\n|       SUMMIT| false|\n|   CHARLESTON| false|\n+-------------+------+\nonly showing top 10 rows\n\n"
     ]
    }
   ],
   "source": [
    "#data.select(\"city\", col(\"city\").cast(\"int\").isNotNull().alias(\"Value \")).show(10)"
   ]
  },
  {
   "cell_type": "code",
   "execution_count": 0,
   "metadata": {
    "application/vnd.databricks.v1+cell": {
     "cellMetadata": {},
     "inputWidgets": {},
     "nuid": "30bb9476-c28f-48e0-ae71-24272f687d52",
     "showTitle": false,
     "title": ""
    },
    "id": "Di7Bb0fRDXfM"
   },
   "outputs": [],
   "source": [
    "#data.select(\"broker_id\", col(\"broker_id\").cast(\"int\").isNotNull().alias(\"Value \")).show(10)"
   ]
  },
  {
   "cell_type": "code",
   "execution_count": 0,
   "metadata": {
    "application/vnd.databricks.v1+cell": {
     "cellMetadata": {},
     "inputWidgets": {},
     "nuid": "7cd0fc51-2d08-4d5f-a60d-1264b6b7d783",
     "showTitle": false,
     "title": ""
    },
    "id": "jP4xtzyjDXTL"
   },
   "outputs": [],
   "source": [
    "#data.select(\"broker_type\", col(\"broker_type\").cast(\"int\").isNotNull().alias(\"Value \")).show(10)"
   ]
  },
  {
   "cell_type": "code",
   "execution_count": 0,
   "metadata": {
    "application/vnd.databricks.v1+cell": {
     "cellMetadata": {},
     "inputWidgets": {},
     "nuid": "bfacaf81-9ab1-4c85-867d-3dbfaae2fefc",
     "showTitle": false,
     "title": ""
    },
    "colab": {
     "base_uri": "https://localhost:8080/"
    },
    "id": "DnBpw2iL-eTU",
    "outputId": "22b569a4-04c7-4f5f-9955-5f618e707634"
   },
   "outputs": [
    {
     "output_type": "stream",
     "name": "stdout",
     "output_type": "stream",
     "text": [
      "+--------------------+------+\n|       fund_category|Value |\n+--------------------+------+\n|Emerging-Markets ...| false|\n|           Utilities| false|\n|Intermediate Gove...| false|\n|Intermediate Gove...| false|\n|    Target-Date 2050| false|\n|       Multicurrency| false|\n|Target-Date Retir...| false|\n|   World Large Stock| false|\n|Intermediate-Term...| false|\n|        Convertibles| false|\n+--------------------+------+\nonly showing top 10 rows\n\n"
     ]
    }
   ],
   "source": [
    "#data.select(\"fund_category\", col(\"fund_category\").cast(\"int\").isNotNull().alias(\"Value \")).show(10)"
   ]
  },
  {
   "cell_type": "code",
   "execution_count": 0,
   "metadata": {
    "application/vnd.databricks.v1+cell": {
     "cellMetadata": {},
     "inputWidgets": {},
     "nuid": "65895891-2d9e-477c-86ab-e32073068979",
     "showTitle": false,
     "title": ""
    },
    "id": "FMGFb8OOWpmY"
   },
   "outputs": [],
   "source": [
    "#data is clean"
   ]
  },
  {
   "cell_type": "code",
   "execution_count": 0,
   "metadata": {
    "application/vnd.databricks.v1+cell": {
     "cellMetadata": {
      "byteLimit": 2048000,
      "rowLimit": 10000
     },
     "inputWidgets": {},
     "nuid": "ac597945-ec8d-4aca-9701-b25929425216",
     "showTitle": false,
     "title": ""
    },
    "colab": {
     "base_uri": "https://localhost:8080/"
    },
    "id": "PvRtARDzEFUN",
    "outputId": "941201cd-e7bb-4b24-cd05-f6bd0eb8cfc2"
   },
   "outputs": [
    {
     "output_type": "stream",
     "name": "stdout",
     "output_type": "stream",
     "text": [
      "+---------+-------------+-------------------+--------------------+------------+----------+------------+-----+\n|broker_id|         City|        broker_type|       fund_category|email_opened|firm_sales|global_sales|state|\n+---------+-------------+-------------------+--------------------+------------+----------+------------+-----+\n|   BRXX-1|   PLANTATION|Inter-dealer broker|Emerging-Markets ...|         N/A|    174.62|      174.62|   FL|\n|   BRXX-1|     BRANFORD|Inter-dealer broker|           Utilities|         N/A|       0.0|         0.0|   CT|\n|   BRXX-1|    JONESBORO|Inter-dealer broker|Intermediate Gove...|         N/A|       0.0|         0.0|   GA|\n|   BRXX-2|       VIENNA|Inter-dealer broker|Intermediate Gove...|           Y|       0.0|     30709.0|   VA|\n|   BRXX-3|CHAGRIN FALLS|full-service broker|    Target-Date 2050|           Y|       0.0|         0.0|   OH|\n|   BRXX-2|     CARLSBAD|Inter-dealer broker|       Multicurrency|           Y|       0.0|         0.0|   CA|\n|   BRXX-3|     BELLEVUE|full-service broker|Target-Date Retir...|           Y|       0.0|     5360.07|   WA|\n|   BRXX-1| OWINGS MILLS|Inter-dealer broker|   World Large Stock|         N/A|       0.0|     4807.68|   MD|\n|   BRXX-3|       SUMMIT|full-service broker|Intermediate-Term...|           Y|       0.0|   354219.62|   NJ|\n|   BRXX-3|   CHARLESTON|full-service broker|        Convertibles|           Y|       0.0|   301974.77|   SC|\n+---------+-------------+-------------------+--------------------+------------+----------+------------+-----+\nonly showing top 10 rows\n\n"
     ]
    }
   ],
   "source": [
    "#data.show(10)"
   ]
  },
  {
   "cell_type": "code",
   "execution_count": 0,
   "metadata": {
    "application/vnd.databricks.v1+cell": {
     "cellMetadata": {
      "byteLimit": 2048000,
      "rowLimit": 10000
     },
     "inputWidgets": {},
     "nuid": "e7183541-1bc4-4fc6-930d-579957f9c5d1",
     "showTitle": false,
     "title": ""
    }
   },
   "outputs": [
    {
     "output_type": "stream",
     "name": "stdout",
     "output_type": "stream",
     "text": [
      "root\n |-- broker_id: string (nullable = true)\n |-- City: string (nullable = true)\n |-- broker_type: string (nullable = true)\n |-- fund_category: string (nullable = true)\n |-- email_opened: string (nullable = false)\n |-- firm_sales: double (nullable = true)\n |-- global_sales: double (nullable = true)\n |-- state: string (nullable = true)\n\n"
     ]
    }
   ],
   "source": [
    "#data.printSchema()"
   ]
  },
  {
   "cell_type": "code",
   "execution_count": 0,
   "metadata": {
    "application/vnd.databricks.v1+cell": {
     "cellMetadata": {},
     "inputWidgets": {},
     "nuid": "e8b94bba-6e27-4b22-9ece-f919cfd2680a",
     "showTitle": false,
     "title": ""
    }
   },
   "outputs": [],
   "source": [
    "#write final clean data present in dataframe\"data\" into the database"
   ]
  },
  {
   "cell_type": "code",
   "execution_count": 0,
   "metadata": {
    "application/vnd.databricks.v1+cell": {
     "cellMetadata": {
      "byteLimit": 2048000,
      "rowLimit": 10000
     },
     "inputWidgets": {},
     "nuid": "eecf84a7-ed23-4b94-a37a-eca263d9e78b",
     "showTitle": false,
     "title": ""
    }
   },
   "outputs": [],
   "source": [
    "# we need to configure the database credentials here\n",
    "jdbcHostName = \"ksrsqlserver.database.windows.net\"\n",
    "jdbcPort = 1433\n",
    "jdbcDatabase = \"ksrdb1\"\n",
    "dbproperties = {\n",
    "    \"user\": \"mouni\",\n",
    "    \"password\": \"Rylee23$\"\n",
    "}"
   ]
  },
  {
   "cell_type": "code",
   "execution_count": 0,
   "metadata": {
    "application/vnd.databricks.v1+cell": {
     "cellMetadata": {
      "byteLimit": 2048000,
      "rowLimit": 10000
     },
     "inputWidgets": {},
     "nuid": "84ef1242-3fc9-4ed6-83aa-373e553b1859",
     "showTitle": false,
     "title": ""
    }
   },
   "outputs": [],
   "source": [
    "serverurl = \"jdbc:sqlserver://{0}:{1};database={2}\".format(jdbcHostName,jdbcPort,jdbcDatabase)"
   ]
  },
  {
   "cell_type": "code",
   "execution_count": 0,
   "metadata": {
    "application/vnd.databricks.v1+cell": {
     "cellMetadata": {
      "byteLimit": 2048000,
      "rowLimit": 10000
     },
     "inputWidgets": {},
     "nuid": "56525fe6-59bb-4fcb-99a9-a11cc29978fa",
     "showTitle": false,
     "title": ""
    }
   },
   "outputs": [
    {
     "output_type": "stream",
     "name": "stdout",
     "output_type": "stream",
     "text": [
      "jdbc:sqlserver://ksrsqlserver.database.windows.net:1433;database=ksrdb1\n"
     ]
    }
   ],
   "source": [
    "print(serverurl)"
   ]
  },
  {
   "cell_type": "code",
   "execution_count": 0,
   "metadata": {
    "application/vnd.databricks.v1+cell": {
     "cellMetadata": {
      "byteLimit": 2048000,
      "rowLimit": 10000
     },
     "inputWidgets": {},
     "nuid": "99d50461-a2d5-4322-aba8-bb597e6c9c23",
     "showTitle": false,
     "title": ""
    }
   },
   "outputs": [],
   "source": [
    "# write back the data into sqlserver\n",
    "output = DataFrameWriter(data)\n",
    "output.jdbc(url = serverurl, table = \"investment_bank_clen_tbl\", mode = \"overWrite\", properties = dbproperties )"
   ]
  }
 ],
 "metadata": {
  "application/vnd.databricks.v1+notebook": {
   "dashboards": [],
   "language": "python",
   "notebookMetadata": {
    "pythonIndentUnit": 4
   },
   "notebookName": "investement_banking_pyspark",
   "widgets": {}
  },
  "colab": {
   "provenance": []
  },
  "kernelspec": {
   "display_name": "Python 3",
   "name": "python3"
  },
  "language_info": {
   "name": "python"
  }
 },
 "nbformat": 4,
 "nbformat_minor": 0
}
